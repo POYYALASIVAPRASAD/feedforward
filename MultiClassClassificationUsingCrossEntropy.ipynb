{
  "nbformat": 4,
  "nbformat_minor": 0,
  "metadata": {
    "colab": {
      "provenance": [],
      "authorship_tag": "ABX9TyOTBbg6BjXEfF5RuTUcePV1",
      "include_colab_link": true
    },
    "kernelspec": {
      "name": "python3",
      "display_name": "Python 3"
    },
    "language_info": {
      "name": "python"
    }
  },
  "cells": [
    {
      "cell_type": "markdown",
      "metadata": {
        "id": "view-in-github",
        "colab_type": "text"
      },
      "source": [
        "<a href=\"https://colab.research.google.com/github/POYYALASIVAPRASAD/feedforward/blob/main/MultiClassClassificationUsingCrossEntropy.ipynb\" target=\"_parent\"><img src=\"https://colab.research.google.com/assets/colab-badge.svg\" alt=\"Open In Colab\"/></a>"
      ]
    },
    {
      "cell_type": "code",
      "execution_count": 76,
      "metadata": {
        "id": "UnhaM87jAYIG"
      },
      "outputs": [],
      "source": [
        "import numpy as np\n",
        "from keras.models import Sequential\n",
        "from keras.layers import Dense\n",
        "import pandas as pd"
      ]
    },
    {
      "cell_type": "code",
      "source": [
        "num_samples = 1000\n",
        "num_features = 20"
      ],
      "metadata": {
        "id": "eLG_p9TiAv47"
      },
      "execution_count": 77,
      "outputs": []
    },
    {
      "cell_type": "code",
      "source": [
        "X = np.random.rand(num_samples,num_features)\n",
        "Y = np.random.randint(0,10,num_samples)\n",
        "Y = pd.get_dummies(Y)"
      ],
      "metadata": {
        "id": "5uXisPAxA3BK"
      },
      "execution_count": 78,
      "outputs": []
    },
    {
      "cell_type": "code",
      "source": [
        "model= Sequential()"
      ],
      "metadata": {
        "id": "jZuUOG6RBYcD"
      },
      "execution_count": 79,
      "outputs": []
    },
    {
      "cell_type": "code",
      "source": [
        "model.add(Dense(units=10,input_dim=num_features))\n",
        "model.add(Dense(units=64,activation='relu'))\n",
        "model.add(Dense(units=32,activation='relu'))\n",
        "model.add(Dense(units=10,activation='softmax'))"
      ],
      "metadata": {
        "id": "8FkciRnpBb6_"
      },
      "execution_count": 80,
      "outputs": []
    },
    {
      "cell_type": "code",
      "source": [
        "model.compile(loss='categorical_crossentropy',optimizer='adam',metrics=['accuracy'])"
      ],
      "metadata": {
        "id": "pAgqjUxzBpo1"
      },
      "execution_count": 81,
      "outputs": []
    },
    {
      "cell_type": "code",
      "source": [
        "model.fit(X,Y,epochs=50,batch_size=20)"
      ],
      "metadata": {
        "colab": {
          "base_uri": "https://localhost:8080/"
        },
        "id": "a32cELt9CDlr",
        "outputId": "ad188b1f-5578-438c-fb4b-20f0421e8438"
      },
      "execution_count": 82,
      "outputs": [
        {
          "output_type": "stream",
          "name": "stdout",
          "text": [
            "Epoch 1/50\n",
            "50/50 [==============================] - 1s 2ms/step - loss: 2.3067 - accuracy: 0.0850\n",
            "Epoch 2/50\n",
            "50/50 [==============================] - 0s 2ms/step - loss: 2.2965 - accuracy: 0.1190\n",
            "Epoch 3/50\n",
            "50/50 [==============================] - 0s 2ms/step - loss: 2.2911 - accuracy: 0.1230\n",
            "Epoch 4/50\n",
            "50/50 [==============================] - 0s 2ms/step - loss: 2.2898 - accuracy: 0.1280\n",
            "Epoch 5/50\n",
            "50/50 [==============================] - 0s 2ms/step - loss: 2.2865 - accuracy: 0.1330\n",
            "Epoch 6/50\n",
            "50/50 [==============================] - 0s 2ms/step - loss: 2.2825 - accuracy: 0.1330\n",
            "Epoch 7/50\n",
            "50/50 [==============================] - 0s 2ms/step - loss: 2.2789 - accuracy: 0.1340\n",
            "Epoch 8/50\n",
            "50/50 [==============================] - 0s 2ms/step - loss: 2.2754 - accuracy: 0.1460\n",
            "Epoch 9/50\n",
            "50/50 [==============================] - 0s 2ms/step - loss: 2.2731 - accuracy: 0.1490\n",
            "Epoch 10/50\n",
            "50/50 [==============================] - 0s 2ms/step - loss: 2.2715 - accuracy: 0.1410\n",
            "Epoch 11/50\n",
            "50/50 [==============================] - 0s 2ms/step - loss: 2.2685 - accuracy: 0.1520\n",
            "Epoch 12/50\n",
            "50/50 [==============================] - 0s 2ms/step - loss: 2.2629 - accuracy: 0.1480\n",
            "Epoch 13/50\n",
            "50/50 [==============================] - 0s 2ms/step - loss: 2.2585 - accuracy: 0.1540\n",
            "Epoch 14/50\n",
            "50/50 [==============================] - 0s 2ms/step - loss: 2.2541 - accuracy: 0.1630\n",
            "Epoch 15/50\n",
            "50/50 [==============================] - 0s 2ms/step - loss: 2.2501 - accuracy: 0.1550\n",
            "Epoch 16/50\n",
            "50/50 [==============================] - 0s 2ms/step - loss: 2.2425 - accuracy: 0.1560\n",
            "Epoch 17/50\n",
            "50/50 [==============================] - 0s 2ms/step - loss: 2.2373 - accuracy: 0.1670\n",
            "Epoch 18/50\n",
            "50/50 [==============================] - 0s 2ms/step - loss: 2.2345 - accuracy: 0.1630\n",
            "Epoch 19/50\n",
            "50/50 [==============================] - 0s 2ms/step - loss: 2.2291 - accuracy: 0.1820\n",
            "Epoch 20/50\n",
            "50/50 [==============================] - 0s 2ms/step - loss: 2.2231 - accuracy: 0.1780\n",
            "Epoch 21/50\n",
            "50/50 [==============================] - 0s 2ms/step - loss: 2.2163 - accuracy: 0.1730\n",
            "Epoch 22/50\n",
            "50/50 [==============================] - 0s 2ms/step - loss: 2.2090 - accuracy: 0.1640\n",
            "Epoch 23/50\n",
            "50/50 [==============================] - 0s 2ms/step - loss: 2.2088 - accuracy: 0.1890\n",
            "Epoch 24/50\n",
            "50/50 [==============================] - 0s 2ms/step - loss: 2.1982 - accuracy: 0.2020\n",
            "Epoch 25/50\n",
            "50/50 [==============================] - 0s 2ms/step - loss: 2.1902 - accuracy: 0.2000\n",
            "Epoch 26/50\n",
            "50/50 [==============================] - 0s 2ms/step - loss: 2.1844 - accuracy: 0.2060\n",
            "Epoch 27/50\n",
            "50/50 [==============================] - 0s 2ms/step - loss: 2.1740 - accuracy: 0.2010\n",
            "Epoch 28/50\n",
            "50/50 [==============================] - 0s 2ms/step - loss: 2.1683 - accuracy: 0.2140\n",
            "Epoch 29/50\n",
            "50/50 [==============================] - 0s 2ms/step - loss: 2.1584 - accuracy: 0.2150\n",
            "Epoch 30/50\n",
            "50/50 [==============================] - 0s 2ms/step - loss: 2.1556 - accuracy: 0.2190\n",
            "Epoch 31/50\n",
            "50/50 [==============================] - 0s 2ms/step - loss: 2.1449 - accuracy: 0.2170\n",
            "Epoch 32/50\n",
            "50/50 [==============================] - 0s 2ms/step - loss: 2.1391 - accuracy: 0.2270\n",
            "Epoch 33/50\n",
            "50/50 [==============================] - 0s 2ms/step - loss: 2.1294 - accuracy: 0.2260\n",
            "Epoch 34/50\n",
            "50/50 [==============================] - 0s 2ms/step - loss: 2.1199 - accuracy: 0.2400\n",
            "Epoch 35/50\n",
            "50/50 [==============================] - 0s 2ms/step - loss: 2.1104 - accuracy: 0.2450\n",
            "Epoch 36/50\n",
            "50/50 [==============================] - 0s 2ms/step - loss: 2.1048 - accuracy: 0.2440\n",
            "Epoch 37/50\n",
            "50/50 [==============================] - 0s 2ms/step - loss: 2.0952 - accuracy: 0.2490\n",
            "Epoch 38/50\n",
            "50/50 [==============================] - 0s 2ms/step - loss: 2.0930 - accuracy: 0.2430\n",
            "Epoch 39/50\n",
            "50/50 [==============================] - 0s 2ms/step - loss: 2.0786 - accuracy: 0.2490\n",
            "Epoch 40/50\n",
            "50/50 [==============================] - 0s 2ms/step - loss: 2.0714 - accuracy: 0.2610\n",
            "Epoch 41/50\n",
            "50/50 [==============================] - 0s 2ms/step - loss: 2.0691 - accuracy: 0.2640\n",
            "Epoch 42/50\n",
            "50/50 [==============================] - 0s 2ms/step - loss: 2.0587 - accuracy: 0.2640\n",
            "Epoch 43/50\n",
            "50/50 [==============================] - 0s 2ms/step - loss: 2.0502 - accuracy: 0.2680\n",
            "Epoch 44/50\n",
            "50/50 [==============================] - 0s 2ms/step - loss: 2.0450 - accuracy: 0.2640\n",
            "Epoch 45/50\n",
            "50/50 [==============================] - 0s 2ms/step - loss: 2.0366 - accuracy: 0.2870\n",
            "Epoch 46/50\n",
            "50/50 [==============================] - 0s 2ms/step - loss: 2.0277 - accuracy: 0.2770\n",
            "Epoch 47/50\n",
            "50/50 [==============================] - 0s 2ms/step - loss: 2.0236 - accuracy: 0.2900\n",
            "Epoch 48/50\n",
            "50/50 [==============================] - 0s 2ms/step - loss: 2.0113 - accuracy: 0.2890\n",
            "Epoch 49/50\n",
            "50/50 [==============================] - 0s 2ms/step - loss: 2.0054 - accuracy: 0.3040\n",
            "Epoch 50/50\n",
            "50/50 [==============================] - 0s 2ms/step - loss: 1.9963 - accuracy: 0.3080\n"
          ]
        },
        {
          "output_type": "execute_result",
          "data": {
            "text/plain": [
              "<keras.callbacks.History at 0x7d998f50ac80>"
            ]
          },
          "metadata": {},
          "execution_count": 82
        }
      ]
    },
    {
      "cell_type": "code",
      "source": [],
      "metadata": {
        "id": "MB5EGuk1CN_Y"
      },
      "execution_count": 82,
      "outputs": []
    }
  ]
}