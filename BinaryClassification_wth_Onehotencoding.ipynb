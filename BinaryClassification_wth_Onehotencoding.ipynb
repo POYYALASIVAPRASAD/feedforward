{
  "nbformat": 4,
  "nbformat_minor": 0,
  "metadata": {
    "colab": {
      "provenance": [],
      "authorship_tag": "ABX9TyOklgKAw4xFYCt7SOPJSQQv",
      "include_colab_link": true
    },
    "kernelspec": {
      "name": "python3",
      "display_name": "Python 3"
    },
    "language_info": {
      "name": "python"
    }
  },
  "cells": [
    {
      "cell_type": "markdown",
      "metadata": {
        "id": "view-in-github",
        "colab_type": "text"
      },
      "source": [
        "<a href=\"https://colab.research.google.com/github/POYYALASIVAPRASAD/feedforward/blob/main/BinaryClassification_wth_Onehotencoding.ipynb\" target=\"_parent\"><img src=\"https://colab.research.google.com/assets/colab-badge.svg\" alt=\"Open In Colab\"/></a>"
      ]
    },
    {
      "cell_type": "code",
      "execution_count": 33,
      "metadata": {
        "id": "F8m58cp_7Ceb"
      },
      "outputs": [],
      "source": [
        "import numpy as np\n",
        "from keras.models import Sequential\n",
        "from keras.layers import Dense\n",
        "import pandas as pd"
      ]
    },
    {
      "cell_type": "code",
      "source": [
        "num_samples = 1000\n",
        "num_features = 10"
      ],
      "metadata": {
        "id": "tZxoUxQZ7Tk2"
      },
      "execution_count": 34,
      "outputs": []
    },
    {
      "cell_type": "code",
      "source": [
        "X = np.random.rand(num_samples,num_features)\n",
        "Y = np.random.randint(0,2,num_samples) #creating two labels (Binary classification) 0 and 1 ."
      ],
      "metadata": {
        "id": "8BBbQY2r7dTl"
      },
      "execution_count": 35,
      "outputs": []
    },
    {
      "cell_type": "code",
      "source": [
        "Y = pd.get_dummies(Y)"
      ],
      "metadata": {
        "id": "x1iktudf7jFt"
      },
      "execution_count": 36,
      "outputs": []
    },
    {
      "cell_type": "code",
      "source": [
        "Y.shape"
      ],
      "metadata": {
        "colab": {
          "base_uri": "https://localhost:8080/"
        },
        "id": "15BNuEPx7x3j",
        "outputId": "33bfaa3f-0377-4690-c5fe-4fe71a35f310"
      },
      "execution_count": 37,
      "outputs": [
        {
          "output_type": "execute_result",
          "data": {
            "text/plain": [
              "(1000, 2)"
            ]
          },
          "metadata": {},
          "execution_count": 37
        }
      ]
    },
    {
      "cell_type": "code",
      "source": [
        "model = Sequential()"
      ],
      "metadata": {
        "id": "ekcu9UIh7z3l"
      },
      "execution_count": 38,
      "outputs": []
    },
    {
      "cell_type": "code",
      "source": [
        "model.add(Dense(units=10,input_dim=num_features))\n",
        "model.add(Dense(units=64,activation='relu'))\n",
        "model.add(Dense(units=32,activation='relu'))\n",
        "model.add(Dense(units=2,activation='softmax'))"
      ],
      "metadata": {
        "id": "3C3PyfUh8L5E"
      },
      "execution_count": 39,
      "outputs": []
    },
    {
      "cell_type": "code",
      "source": [
        "model.compile(loss='binary_crossentropy',optimizer='adam',metrics==['accuracy'])"
      ],
      "metadata": {
        "id": "UR1N_zDf9UNQ"
      },
      "execution_count": 40,
      "outputs": []
    },
    {
      "cell_type": "code",
      "source": [
        "model.fit(X,Y,epochs=50,batch_size=20)"
      ],
      "metadata": {
        "colab": {
          "base_uri": "https://localhost:8080/"
        },
        "id": "qQgyQLy_99lQ",
        "outputId": "52b0fcd0-103b-421b-fbb0-f7d463dbc1d6"
      },
      "execution_count": 41,
      "outputs": [
        {
          "output_type": "stream",
          "name": "stdout",
          "text": [
            "Epoch 1/50\n",
            "50/50 [==============================] - 1s 2ms/step - loss: 0.6945 - accuracy: 0.4930\n",
            "Epoch 2/50\n",
            "50/50 [==============================] - 0s 2ms/step - loss: 0.6920 - accuracy: 0.5170\n",
            "Epoch 3/50\n",
            "50/50 [==============================] - 0s 2ms/step - loss: 0.6906 - accuracy: 0.5500\n",
            "Epoch 4/50\n",
            "50/50 [==============================] - 0s 2ms/step - loss: 0.6887 - accuracy: 0.5360\n",
            "Epoch 5/50\n",
            "50/50 [==============================] - 0s 2ms/step - loss: 0.6871 - accuracy: 0.5550\n",
            "Epoch 6/50\n",
            "50/50 [==============================] - 0s 2ms/step - loss: 0.6859 - accuracy: 0.5520\n",
            "Epoch 7/50\n",
            "50/50 [==============================] - 0s 2ms/step - loss: 0.6837 - accuracy: 0.5660\n",
            "Epoch 8/50\n",
            "50/50 [==============================] - 0s 2ms/step - loss: 0.6830 - accuracy: 0.5480\n",
            "Epoch 9/50\n",
            "50/50 [==============================] - 0s 2ms/step - loss: 0.6814 - accuracy: 0.5590\n",
            "Epoch 10/50\n",
            "50/50 [==============================] - 0s 2ms/step - loss: 0.6793 - accuracy: 0.5740\n",
            "Epoch 11/50\n",
            "50/50 [==============================] - 0s 2ms/step - loss: 0.6785 - accuracy: 0.5610\n",
            "Epoch 12/50\n",
            "50/50 [==============================] - 0s 2ms/step - loss: 0.6771 - accuracy: 0.5790\n",
            "Epoch 13/50\n",
            "50/50 [==============================] - 0s 2ms/step - loss: 0.6748 - accuracy: 0.5770\n",
            "Epoch 14/50\n",
            "50/50 [==============================] - 0s 2ms/step - loss: 0.6768 - accuracy: 0.5620\n",
            "Epoch 15/50\n",
            "50/50 [==============================] - 0s 2ms/step - loss: 0.6721 - accuracy: 0.5880\n",
            "Epoch 16/50\n",
            "50/50 [==============================] - 0s 2ms/step - loss: 0.6714 - accuracy: 0.5840\n",
            "Epoch 17/50\n",
            "50/50 [==============================] - 0s 2ms/step - loss: 0.6719 - accuracy: 0.5870\n",
            "Epoch 18/50\n",
            "50/50 [==============================] - 0s 2ms/step - loss: 0.6675 - accuracy: 0.5870\n",
            "Epoch 19/50\n",
            "50/50 [==============================] - 0s 2ms/step - loss: 0.6677 - accuracy: 0.5890\n",
            "Epoch 20/50\n",
            "50/50 [==============================] - 0s 2ms/step - loss: 0.6640 - accuracy: 0.5960\n",
            "Epoch 21/50\n",
            "50/50 [==============================] - 0s 2ms/step - loss: 0.6655 - accuracy: 0.6000\n",
            "Epoch 22/50\n",
            "50/50 [==============================] - 0s 2ms/step - loss: 0.6622 - accuracy: 0.5920\n",
            "Epoch 23/50\n",
            "50/50 [==============================] - 0s 2ms/step - loss: 0.6604 - accuracy: 0.6060\n",
            "Epoch 24/50\n",
            "50/50 [==============================] - 0s 2ms/step - loss: 0.6560 - accuracy: 0.6180\n",
            "Epoch 25/50\n",
            "50/50 [==============================] - 0s 2ms/step - loss: 0.6575 - accuracy: 0.6030\n",
            "Epoch 26/50\n",
            "50/50 [==============================] - 0s 2ms/step - loss: 0.6549 - accuracy: 0.6080\n",
            "Epoch 27/50\n",
            "50/50 [==============================] - 0s 2ms/step - loss: 0.6541 - accuracy: 0.6100\n",
            "Epoch 28/50\n",
            "50/50 [==============================] - 0s 2ms/step - loss: 0.6485 - accuracy: 0.6050\n",
            "Epoch 29/50\n",
            "50/50 [==============================] - 0s 2ms/step - loss: 0.6489 - accuracy: 0.6280\n",
            "Epoch 30/50\n",
            "50/50 [==============================] - 0s 2ms/step - loss: 0.6449 - accuracy: 0.6190\n",
            "Epoch 31/50\n",
            "50/50 [==============================] - 0s 2ms/step - loss: 0.6425 - accuracy: 0.6310\n",
            "Epoch 32/50\n",
            "50/50 [==============================] - 0s 2ms/step - loss: 0.6397 - accuracy: 0.6340\n",
            "Epoch 33/50\n",
            "50/50 [==============================] - 0s 2ms/step - loss: 0.6388 - accuracy: 0.6380\n",
            "Epoch 34/50\n",
            "50/50 [==============================] - 0s 2ms/step - loss: 0.6360 - accuracy: 0.6380\n",
            "Epoch 35/50\n",
            "50/50 [==============================] - 0s 2ms/step - loss: 0.6334 - accuracy: 0.6490\n",
            "Epoch 36/50\n",
            "50/50 [==============================] - 0s 2ms/step - loss: 0.6289 - accuracy: 0.6380\n",
            "Epoch 37/50\n",
            "50/50 [==============================] - 0s 2ms/step - loss: 0.6284 - accuracy: 0.6490\n",
            "Epoch 38/50\n",
            "50/50 [==============================] - 0s 2ms/step - loss: 0.6313 - accuracy: 0.6610\n",
            "Epoch 39/50\n",
            "50/50 [==============================] - 0s 2ms/step - loss: 0.6225 - accuracy: 0.6470\n",
            "Epoch 40/50\n",
            "50/50 [==============================] - 0s 2ms/step - loss: 0.6193 - accuracy: 0.6740\n",
            "Epoch 41/50\n",
            "50/50 [==============================] - 0s 3ms/step - loss: 0.6186 - accuracy: 0.6640\n",
            "Epoch 42/50\n",
            "50/50 [==============================] - 0s 3ms/step - loss: 0.6148 - accuracy: 0.6590\n",
            "Epoch 43/50\n",
            "50/50 [==============================] - 0s 3ms/step - loss: 0.6140 - accuracy: 0.6530\n",
            "Epoch 44/50\n",
            "50/50 [==============================] - 0s 3ms/step - loss: 0.6113 - accuracy: 0.6580\n",
            "Epoch 45/50\n",
            "50/50 [==============================] - 0s 3ms/step - loss: 0.6054 - accuracy: 0.6640\n",
            "Epoch 46/50\n",
            "50/50 [==============================] - 0s 3ms/step - loss: 0.6070 - accuracy: 0.6700\n",
            "Epoch 47/50\n",
            "50/50 [==============================] - 0s 3ms/step - loss: 0.6009 - accuracy: 0.6680\n",
            "Epoch 48/50\n",
            "50/50 [==============================] - 0s 3ms/step - loss: 0.5997 - accuracy: 0.6680\n",
            "Epoch 49/50\n",
            "50/50 [==============================] - 0s 3ms/step - loss: 0.5960 - accuracy: 0.6860\n",
            "Epoch 50/50\n",
            "50/50 [==============================] - 0s 3ms/step - loss: 0.5923 - accuracy: 0.6850\n"
          ]
        },
        {
          "output_type": "execute_result",
          "data": {
            "text/plain": [
              "<keras.callbacks.History at 0x7b18eda2ee90>"
            ]
          },
          "metadata": {},
          "execution_count": 41
        }
      ]
    }
  ]
}