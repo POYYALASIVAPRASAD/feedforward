{
  "nbformat": 4,
  "nbformat_minor": 0,
  "metadata": {
    "colab": {
      "provenance": [],
      "toc_visible": true,
      "authorship_tag": "ABX9TyOtm7jLx9+N03YvsHoHyoO+",
      "include_colab_link": true
    },
    "kernelspec": {
      "name": "python3",
      "display_name": "Python 3"
    },
    "language_info": {
      "name": "python"
    }
  },
  "cells": [
    {
      "cell_type": "markdown",
      "metadata": {
        "id": "view-in-github",
        "colab_type": "text"
      },
      "source": [
        "<a href=\"https://colab.research.google.com/github/POYYALASIVAPRASAD/feedforward/blob/main/Untitled2.ipynb\" target=\"_parent\"><img src=\"https://colab.research.google.com/assets/colab-badge.svg\" alt=\"Open In Colab\"/></a>"
      ]
    },
    {
      "cell_type": "code",
      "source": [
        "import numpy as np\n",
        "from keras.models import Sequential\n",
        "from keras.layers import Dense\n",
        "import pandas as pd"
      ],
      "metadata": {
        "id": "agay1_nWrcJX"
      },
      "execution_count": 16,
      "outputs": []
    },
    {
      "cell_type": "code",
      "source": [
        "num_samples = 1000\n",
        "num_features = 10"
      ],
      "metadata": {
        "id": "eyAvUPGd14KT"
      },
      "execution_count": 17,
      "outputs": []
    },
    {
      "cell_type": "code",
      "source": [
        "#Generate some random data for demonstration\n",
        "X = np.random.rand(num_samples,num_features) #Data with 1000 samples and 10 features\n",
        "Y = np.random.randint(1,5,num_samples) # Binary labels"
      ],
      "metadata": {
        "id": "r9Mr-D6lriLA"
      },
      "execution_count": 18,
      "outputs": []
    },
    {
      "cell_type": "code",
      "source": [
        "Y = pd.get_dummies(Y)"
      ],
      "metadata": {
        "id": "nZOUDLhbu2ya"
      },
      "execution_count": 20,
      "outputs": []
    },
    {
      "cell_type": "code",
      "source": [
        "mode1 = Sequential()"
      ],
      "metadata": {
        "id": "ZpxdqB0iriWZ"
      },
      "execution_count": 21,
      "outputs": []
    },
    {
      "cell_type": "code",
      "source": [
        "mode1.add(Dense(units=15,input_dim=num_features))\n",
        "mode1.add(Dense(units=10,activation='relu'))\n",
        "mode1.add(Dense(units=4,activation='softmax'))"
      ],
      "metadata": {
        "id": "f0CK8cmytCEu"
      },
      "execution_count": 22,
      "outputs": []
    },
    {
      "cell_type": "code",
      "source": [
        "mode1.compile(loss='binary_crossentropy',optimizer='adam',metrics=['accuracy'])"
      ],
      "metadata": {
        "id": "419cVrHsuWRZ"
      },
      "execution_count": 23,
      "outputs": []
    },
    {
      "cell_type": "code",
      "source": [
        "mode1.fit(X,Y,epochs=50,batch_size=20)"
      ],
      "metadata": {
        "colab": {
          "base_uri": "https://localhost:8080/"
        },
        "id": "R6jqTZlPu0lH",
        "outputId": "03f83454-e580-4a5e-be78-82c553d42785"
      },
      "execution_count": 24,
      "outputs": [
        {
          "output_type": "stream",
          "name": "stdout",
          "text": [
            "Epoch 1/50\n",
            "50/50 [==============================] - 1s 3ms/step - loss: 0.6030 - accuracy: 0.2430\n",
            "Epoch 2/50\n",
            "50/50 [==============================] - 0s 3ms/step - loss: 0.5695 - accuracy: 0.2440\n",
            "Epoch 3/50\n",
            "50/50 [==============================] - 0s 3ms/step - loss: 0.5678 - accuracy: 0.2540\n",
            "Epoch 4/50\n",
            "50/50 [==============================] - 0s 3ms/step - loss: 0.5665 - accuracy: 0.2680\n",
            "Epoch 5/50\n",
            "50/50 [==============================] - 0s 2ms/step - loss: 0.5657 - accuracy: 0.2750\n",
            "Epoch 6/50\n",
            "50/50 [==============================] - 0s 2ms/step - loss: 0.5650 - accuracy: 0.2700\n",
            "Epoch 7/50\n",
            "50/50 [==============================] - 0s 2ms/step - loss: 0.5643 - accuracy: 0.2700\n",
            "Epoch 8/50\n",
            "50/50 [==============================] - 0s 2ms/step - loss: 0.5638 - accuracy: 0.2940\n",
            "Epoch 9/50\n",
            "50/50 [==============================] - 0s 2ms/step - loss: 0.5633 - accuracy: 0.3010\n",
            "Epoch 10/50\n",
            "50/50 [==============================] - 0s 2ms/step - loss: 0.5629 - accuracy: 0.2850\n",
            "Epoch 11/50\n",
            "50/50 [==============================] - 0s 2ms/step - loss: 0.5629 - accuracy: 0.2910\n",
            "Epoch 12/50\n",
            "50/50 [==============================] - 0s 2ms/step - loss: 0.5620 - accuracy: 0.2900\n",
            "Epoch 13/50\n",
            "50/50 [==============================] - 0s 2ms/step - loss: 0.5619 - accuracy: 0.2820\n",
            "Epoch 14/50\n",
            "50/50 [==============================] - 0s 2ms/step - loss: 0.5616 - accuracy: 0.2940\n",
            "Epoch 15/50\n",
            "50/50 [==============================] - 0s 2ms/step - loss: 0.5610 - accuracy: 0.2890\n",
            "Epoch 16/50\n",
            "50/50 [==============================] - 0s 2ms/step - loss: 0.5605 - accuracy: 0.3000\n",
            "Epoch 17/50\n",
            "50/50 [==============================] - 0s 2ms/step - loss: 0.5605 - accuracy: 0.2990\n",
            "Epoch 18/50\n",
            "50/50 [==============================] - 0s 2ms/step - loss: 0.5602 - accuracy: 0.2970\n",
            "Epoch 19/50\n",
            "50/50 [==============================] - 0s 2ms/step - loss: 0.5600 - accuracy: 0.2980\n",
            "Epoch 20/50\n",
            "50/50 [==============================] - 0s 2ms/step - loss: 0.5598 - accuracy: 0.3060\n",
            "Epoch 21/50\n",
            "50/50 [==============================] - 0s 2ms/step - loss: 0.5597 - accuracy: 0.2930\n",
            "Epoch 22/50\n",
            "50/50 [==============================] - 0s 2ms/step - loss: 0.5593 - accuracy: 0.3040\n",
            "Epoch 23/50\n",
            "50/50 [==============================] - 0s 2ms/step - loss: 0.5592 - accuracy: 0.3030\n",
            "Epoch 24/50\n",
            "50/50 [==============================] - 0s 2ms/step - loss: 0.5592 - accuracy: 0.3100\n",
            "Epoch 25/50\n",
            "50/50 [==============================] - 0s 2ms/step - loss: 0.5588 - accuracy: 0.3050\n",
            "Epoch 26/50\n",
            "50/50 [==============================] - 0s 2ms/step - loss: 0.5588 - accuracy: 0.3110\n",
            "Epoch 27/50\n",
            "50/50 [==============================] - 0s 2ms/step - loss: 0.5586 - accuracy: 0.3120\n",
            "Epoch 28/50\n",
            "50/50 [==============================] - 0s 2ms/step - loss: 0.5586 - accuracy: 0.3070\n",
            "Epoch 29/50\n",
            "50/50 [==============================] - 0s 1ms/step - loss: 0.5582 - accuracy: 0.3050\n",
            "Epoch 30/50\n",
            "50/50 [==============================] - 0s 2ms/step - loss: 0.5586 - accuracy: 0.3050\n",
            "Epoch 31/50\n",
            "50/50 [==============================] - 0s 2ms/step - loss: 0.5579 - accuracy: 0.3020\n",
            "Epoch 32/50\n",
            "50/50 [==============================] - 0s 2ms/step - loss: 0.5578 - accuracy: 0.3130\n",
            "Epoch 33/50\n",
            "50/50 [==============================] - 0s 2ms/step - loss: 0.5579 - accuracy: 0.3010\n",
            "Epoch 34/50\n",
            "50/50 [==============================] - 0s 1ms/step - loss: 0.5576 - accuracy: 0.3120\n",
            "Epoch 35/50\n",
            "50/50 [==============================] - 0s 2ms/step - loss: 0.5578 - accuracy: 0.2960\n",
            "Epoch 36/50\n",
            "50/50 [==============================] - 0s 2ms/step - loss: 0.5576 - accuracy: 0.3160\n",
            "Epoch 37/50\n",
            "50/50 [==============================] - 0s 2ms/step - loss: 0.5574 - accuracy: 0.3040\n",
            "Epoch 38/50\n",
            "50/50 [==============================] - 0s 2ms/step - loss: 0.5573 - accuracy: 0.3180\n",
            "Epoch 39/50\n",
            "50/50 [==============================] - 0s 2ms/step - loss: 0.5572 - accuracy: 0.3030\n",
            "Epoch 40/50\n",
            "50/50 [==============================] - 0s 2ms/step - loss: 0.5567 - accuracy: 0.3140\n",
            "Epoch 41/50\n",
            "50/50 [==============================] - 0s 2ms/step - loss: 0.5567 - accuracy: 0.3130\n",
            "Epoch 42/50\n",
            "50/50 [==============================] - 0s 2ms/step - loss: 0.5570 - accuracy: 0.3230\n",
            "Epoch 43/50\n",
            "50/50 [==============================] - 0s 2ms/step - loss: 0.5565 - accuracy: 0.3160\n",
            "Epoch 44/50\n",
            "50/50 [==============================] - 0s 2ms/step - loss: 0.5565 - accuracy: 0.3170\n",
            "Epoch 45/50\n",
            "50/50 [==============================] - 0s 2ms/step - loss: 0.5565 - accuracy: 0.2990\n",
            "Epoch 46/50\n",
            "50/50 [==============================] - 0s 2ms/step - loss: 0.5565 - accuracy: 0.3220\n",
            "Epoch 47/50\n",
            "50/50 [==============================] - 0s 2ms/step - loss: 0.5564 - accuracy: 0.3190\n",
            "Epoch 48/50\n",
            "50/50 [==============================] - 0s 2ms/step - loss: 0.5565 - accuracy: 0.3140\n",
            "Epoch 49/50\n",
            "50/50 [==============================] - 0s 2ms/step - loss: 0.5563 - accuracy: 0.3070\n",
            "Epoch 50/50\n",
            "50/50 [==============================] - 0s 2ms/step - loss: 0.5561 - accuracy: 0.3160\n"
          ]
        },
        {
          "output_type": "execute_result",
          "data": {
            "text/plain": [
              "<keras.callbacks.History at 0x79a77b0d4c10>"
            ]
          },
          "metadata": {},
          "execution_count": 24
        }
      ]
    },
    {
      "cell_type": "code",
      "source": [],
      "metadata": {
        "id": "uiNwaCHlAgEP"
      },
      "execution_count": null,
      "outputs": []
    }
  ]
}