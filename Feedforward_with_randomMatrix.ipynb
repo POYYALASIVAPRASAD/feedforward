{
  "nbformat": 4,
  "nbformat_minor": 0,
  "metadata": {
    "colab": {
      "provenance": [],
      "authorship_tag": "ABX9TyPR6pv6P4rOtUP83YSr4Wsv",
      "include_colab_link": true
    },
    "kernelspec": {
      "name": "python3",
      "display_name": "Python 3"
    },
    "language_info": {
      "name": "python"
    }
  },
  "cells": [
    {
      "cell_type": "markdown",
      "metadata": {
        "id": "view-in-github",
        "colab_type": "text"
      },
      "source": [
        "<a href=\"https://colab.research.google.com/github/POYYALASIVAPRASAD/feedforward/blob/main/Feedforward_with_randomMatrix.ipynb\" target=\"_parent\"><img src=\"https://colab.research.google.com/assets/colab-badge.svg\" alt=\"Open In Colab\"/></a>"
      ]
    },
    {
      "cell_type": "code",
      "execution_count": 228,
      "metadata": {
        "id": "eKv6S_tDt6lY"
      },
      "outputs": [],
      "source": [
        "import numpy as np"
      ]
    },
    {
      "cell_type": "code",
      "source": [
        "def sig(s):\n",
        "  k = 1 / (1 + np.exp(-s))\n",
        "  return k"
      ],
      "metadata": {
        "id": "M7137O9m1UJR"
      },
      "execution_count": 229,
      "outputs": []
    },
    {
      "cell_type": "code",
      "source": [
        "X = [0.3, 0.5]\n",
        "Y = 1 #Actual output"
      ],
      "metadata": {
        "id": "AGqWSYn4wg1m"
      },
      "execution_count": 230,
      "outputs": []
    },
    {
      "cell_type": "code",
      "source": [
        "W = [[0.1,0.2,0.3], [0.4,0.5,0.6]] # weight matrix of first layer"
      ],
      "metadata": {
        "id": "80gcUcM-xTCu"
      },
      "execution_count": 231,
      "outputs": []
    },
    {
      "cell_type": "code",
      "source": [
        "h = 3 #Number of nodes using in the first hidden layer.\n",
        "H = []"
      ],
      "metadata": {
        "id": "_-6uWdKMxtkR"
      },
      "execution_count": 232,
      "outputs": []
    },
    {
      "cell_type": "code",
      "source": [
        "for i in range(h):\n",
        "    s = float(1 + (W[0][i] * X[0] + W[1][i]*X[1]))\n",
        "    m = sig(s)\n",
        "    l=round(m,2)\n",
        "    H.append(l)\n",
        "print(H)\n",
        "\n"
      ],
      "metadata": {
        "colab": {
          "base_uri": "https://localhost:8080/"
        },
        "id": "5k8BgeXmxoO-",
        "outputId": "3c11f744-4c1b-44ad-c01a-f4861eeeb945"
      },
      "execution_count": 233,
      "outputs": [
        {
          "output_type": "stream",
          "name": "stdout",
          "text": [
            "[0.77, 0.79, 0.8]\n"
          ]
        }
      ]
    },
    {
      "cell_type": "code",
      "source": [
        "W2 = [0.7,0.8,0.9] # Weights in the second layer"
      ],
      "metadata": {
        "id": "z2onXB1w0XLi"
      },
      "execution_count": 234,
      "outputs": []
    },
    {
      "cell_type": "code",
      "source": [
        "for j in range(len(W2)):\n",
        "  a += (W2[j] * H[j])\n",
        "y = sig(1 + a)"
      ],
      "metadata": {
        "id": "1_duJKh70-hU"
      },
      "execution_count": 235,
      "outputs": []
    },
    {
      "cell_type": "markdown",
      "source": [],
      "metadata": {
        "id": "f_US-MRX_-AQ"
      }
    },
    {
      "cell_type": "code",
      "source": [
        "print(y)"
      ],
      "metadata": {
        "colab": {
          "base_uri": "https://localhost:8080/"
        },
        "id": "uU1Z3sSd1Ajl",
        "outputId": "2585b829-5435-4890-f308-97eff8fae3c4"
      },
      "execution_count": 236,
      "outputs": [
        {
          "output_type": "stream",
          "name": "stdout",
          "text": [
            "0.9999999936010302\n"
          ]
        }
      ]
    },
    {
      "cell_type": "code",
      "source": [
        "Error = (y - Y)**2\n",
        "Error"
      ],
      "metadata": {
        "colab": {
          "base_uri": "https://localhost:8080/"
        },
        "id": "y31etx-L_59Z",
        "outputId": "1154c0d8-e113-4375-8ab8-fcb5a804ada4"
      },
      "execution_count": 237,
      "outputs": [
        {
          "output_type": "execute_result",
          "data": {
            "text/plain": [
              "4.0946814481888766e-17"
            ]
          },
          "metadata": {},
          "execution_count": 237
        }
      ]
    }
  ]
}