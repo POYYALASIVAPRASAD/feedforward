{
  "nbformat": 4,
  "nbformat_minor": 0,
  "metadata": {
    "colab": {
      "provenance": [],
      "authorship_tag": "ABX9TyONlRYEDVU6Ut9ovXWS9ude",
      "include_colab_link": true
    },
    "kernelspec": {
      "name": "python3",
      "display_name": "Python 3"
    },
    "language_info": {
      "name": "python"
    }
  },
  "cells": [
    {
      "cell_type": "markdown",
      "metadata": {
        "id": "view-in-github",
        "colab_type": "text"
      },
      "source": [
        "<a href=\"https://colab.research.google.com/github/POYYALASIVAPRASAD/feedforward/blob/main/MultiClassClassification.ipynb\" target=\"_parent\"><img src=\"https://colab.research.google.com/assets/colab-badge.svg\" alt=\"Open In Colab\"/></a>"
      ]
    },
    {
      "cell_type": "code",
      "execution_count": 69,
      "metadata": {
        "id": "UnhaM87jAYIG"
      },
      "outputs": [],
      "source": [
        "import numpy as np\n",
        "from keras.models import Sequential\n",
        "from keras.layers import Dense\n",
        "import pandas as pd"
      ]
    },
    {
      "cell_type": "code",
      "source": [
        "num_samples = 1000\n",
        "num_features = 20"
      ],
      "metadata": {
        "id": "eLG_p9TiAv47"
      },
      "execution_count": 70,
      "outputs": []
    },
    {
      "cell_type": "code",
      "source": [
        "X = np.random.rand(num_samples,num_features)\n",
        "Y = np.random.randint(0,10,num_samples)\n",
        "Y = pd.get_dummies(Y)"
      ],
      "metadata": {
        "id": "5uXisPAxA3BK"
      },
      "execution_count": 71,
      "outputs": []
    },
    {
      "cell_type": "code",
      "source": [
        "model= Sequential()"
      ],
      "metadata": {
        "id": "jZuUOG6RBYcD"
      },
      "execution_count": 72,
      "outputs": []
    },
    {
      "cell_type": "code",
      "source": [
        "model.add(Dense(units=10,input_dim=num_features))\n",
        "model.add(Dense(units=64,activation='relu'))\n",
        "model.add(Dense(units=32,activation='relu'))\n",
        "model.add(Dense(units=10,activation='softmax'))"
      ],
      "metadata": {
        "id": "8FkciRnpBb6_"
      },
      "execution_count": 73,
      "outputs": []
    },
    {
      "cell_type": "code",
      "source": [
        "model.compile(loss='binary_crossentropy',optimizer='adam',metrics=['accuracy'])"
      ],
      "metadata": {
        "id": "pAgqjUxzBpo1"
      },
      "execution_count": 74,
      "outputs": []
    },
    {
      "cell_type": "code",
      "source": [
        "model.fit(X,Y,epochs=50,batch_size=20)"
      ],
      "metadata": {
        "colab": {
          "base_uri": "https://localhost:8080/"
        },
        "id": "a32cELt9CDlr",
        "outputId": "c383fe1a-e4f4-4400-fbcb-ed0415a8ddcb"
      },
      "execution_count": 75,
      "outputs": [
        {
          "output_type": "stream",
          "name": "stdout",
          "text": [
            "Epoch 1/50\n",
            "50/50 [==============================] - 1s 2ms/step - loss: 0.5736 - accuracy: 0.0860\n",
            "Epoch 2/50\n",
            "50/50 [==============================] - 0s 2ms/step - loss: 0.3403 - accuracy: 0.0940\n",
            "Epoch 3/50\n",
            "50/50 [==============================] - 0s 2ms/step - loss: 0.3292 - accuracy: 0.1180\n",
            "Epoch 4/50\n",
            "50/50 [==============================] - 0s 2ms/step - loss: 0.3295 - accuracy: 0.1070\n",
            "Epoch 5/50\n",
            "50/50 [==============================] - 0s 2ms/step - loss: 0.3287 - accuracy: 0.1130\n",
            "Epoch 6/50\n",
            "50/50 [==============================] - 0s 2ms/step - loss: 0.3288 - accuracy: 0.1220\n",
            "Epoch 7/50\n",
            "50/50 [==============================] - 0s 2ms/step - loss: 0.3278 - accuracy: 0.1210\n",
            "Epoch 8/50\n",
            "50/50 [==============================] - 0s 2ms/step - loss: 0.3279 - accuracy: 0.1270\n",
            "Epoch 9/50\n",
            "50/50 [==============================] - 0s 2ms/step - loss: 0.3276 - accuracy: 0.1210\n",
            "Epoch 10/50\n",
            "50/50 [==============================] - 0s 2ms/step - loss: 0.3272 - accuracy: 0.1260\n",
            "Epoch 11/50\n",
            "50/50 [==============================] - 0s 2ms/step - loss: 0.3268 - accuracy: 0.1240\n",
            "Epoch 12/50\n",
            "50/50 [==============================] - 0s 2ms/step - loss: 0.3265 - accuracy: 0.1380\n",
            "Epoch 13/50\n",
            "50/50 [==============================] - 0s 2ms/step - loss: 0.3257 - accuracy: 0.1340\n",
            "Epoch 14/50\n",
            "50/50 [==============================] - 0s 2ms/step - loss: 0.3259 - accuracy: 0.1240\n",
            "Epoch 15/50\n",
            "50/50 [==============================] - 0s 2ms/step - loss: 0.3253 - accuracy: 0.1400\n",
            "Epoch 16/50\n",
            "50/50 [==============================] - 0s 2ms/step - loss: 0.3250 - accuracy: 0.1520\n",
            "Epoch 17/50\n",
            "50/50 [==============================] - 0s 2ms/step - loss: 0.3249 - accuracy: 0.1300\n",
            "Epoch 18/50\n",
            "50/50 [==============================] - 0s 2ms/step - loss: 0.3243 - accuracy: 0.1610\n",
            "Epoch 19/50\n",
            "50/50 [==============================] - 0s 2ms/step - loss: 0.3241 - accuracy: 0.1460\n",
            "Epoch 20/50\n",
            "50/50 [==============================] - 0s 2ms/step - loss: 0.3247 - accuracy: 0.1400\n",
            "Epoch 21/50\n",
            "50/50 [==============================] - 0s 2ms/step - loss: 0.3238 - accuracy: 0.1430\n",
            "Epoch 22/50\n",
            "50/50 [==============================] - 0s 2ms/step - loss: 0.3231 - accuracy: 0.1470\n",
            "Epoch 23/50\n",
            "50/50 [==============================] - 0s 2ms/step - loss: 0.3231 - accuracy: 0.1380\n",
            "Epoch 24/50\n",
            "50/50 [==============================] - 0s 2ms/step - loss: 0.3226 - accuracy: 0.1490\n",
            "Epoch 25/50\n",
            "50/50 [==============================] - 0s 2ms/step - loss: 0.3225 - accuracy: 0.1470\n",
            "Epoch 26/50\n",
            "50/50 [==============================] - 0s 2ms/step - loss: 0.3227 - accuracy: 0.1470\n",
            "Epoch 27/50\n",
            "50/50 [==============================] - 0s 2ms/step - loss: 0.3218 - accuracy: 0.1690\n",
            "Epoch 28/50\n",
            "50/50 [==============================] - 0s 2ms/step - loss: 0.3213 - accuracy: 0.1610\n",
            "Epoch 29/50\n",
            "50/50 [==============================] - 0s 2ms/step - loss: 0.3212 - accuracy: 0.1520\n",
            "Epoch 30/50\n",
            "50/50 [==============================] - 0s 2ms/step - loss: 0.3209 - accuracy: 0.1560\n",
            "Epoch 31/50\n",
            "50/50 [==============================] - 0s 2ms/step - loss: 0.3201 - accuracy: 0.1580\n",
            "Epoch 32/50\n",
            "50/50 [==============================] - 0s 2ms/step - loss: 0.3197 - accuracy: 0.1560\n",
            "Epoch 33/50\n",
            "50/50 [==============================] - 0s 2ms/step - loss: 0.3194 - accuracy: 0.1600\n",
            "Epoch 34/50\n",
            "50/50 [==============================] - 0s 2ms/step - loss: 0.3193 - accuracy: 0.1760\n",
            "Epoch 35/50\n",
            "50/50 [==============================] - 0s 2ms/step - loss: 0.3184 - accuracy: 0.1710\n",
            "Epoch 36/50\n",
            "50/50 [==============================] - 0s 2ms/step - loss: 0.3188 - accuracy: 0.1660\n",
            "Epoch 37/50\n",
            "50/50 [==============================] - 0s 2ms/step - loss: 0.3178 - accuracy: 0.1850\n",
            "Epoch 38/50\n",
            "50/50 [==============================] - 0s 2ms/step - loss: 0.3175 - accuracy: 0.1690\n",
            "Epoch 39/50\n",
            "50/50 [==============================] - 0s 3ms/step - loss: 0.3170 - accuracy: 0.1540\n",
            "Epoch 40/50\n",
            "50/50 [==============================] - 0s 3ms/step - loss: 0.3163 - accuracy: 0.1760\n",
            "Epoch 41/50\n",
            "50/50 [==============================] - 0s 3ms/step - loss: 0.3160 - accuracy: 0.1950\n",
            "Epoch 42/50\n",
            "50/50 [==============================] - 0s 3ms/step - loss: 0.3161 - accuracy: 0.1710\n",
            "Epoch 43/50\n",
            "50/50 [==============================] - 0s 3ms/step - loss: 0.3153 - accuracy: 0.1860\n",
            "Epoch 44/50\n",
            "50/50 [==============================] - 0s 4ms/step - loss: 0.3149 - accuracy: 0.1930\n",
            "Epoch 45/50\n",
            "50/50 [==============================] - 0s 3ms/step - loss: 0.3148 - accuracy: 0.1740\n",
            "Epoch 46/50\n",
            "50/50 [==============================] - 0s 3ms/step - loss: 0.3138 - accuracy: 0.1960\n",
            "Epoch 47/50\n",
            "50/50 [==============================] - 0s 3ms/step - loss: 0.3130 - accuracy: 0.1810\n",
            "Epoch 48/50\n",
            "50/50 [==============================] - 0s 3ms/step - loss: 0.3129 - accuracy: 0.1830\n",
            "Epoch 49/50\n",
            "50/50 [==============================] - 0s 3ms/step - loss: 0.3118 - accuracy: 0.1990\n",
            "Epoch 50/50\n",
            "50/50 [==============================] - 0s 3ms/step - loss: 0.3114 - accuracy: 0.2030\n"
          ]
        },
        {
          "output_type": "execute_result",
          "data": {
            "text/plain": [
              "<keras.callbacks.History at 0x7d998b3175e0>"
            ]
          },
          "metadata": {},
          "execution_count": 75
        }
      ]
    },
    {
      "cell_type": "code",
      "source": [],
      "metadata": {
        "id": "MB5EGuk1CN_Y"
      },
      "execution_count": 75,
      "outputs": []
    }
  ]
}