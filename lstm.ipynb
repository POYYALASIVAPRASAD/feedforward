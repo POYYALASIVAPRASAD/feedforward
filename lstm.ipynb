{
  "nbformat": 4,
  "nbformat_minor": 0,
  "metadata": {
    "colab": {
      "provenance": [],
      "authorship_tag": "ABX9TyOrNTwe1Jjwf3BRaj7M/kf7",
      "include_colab_link": true
    },
    "kernelspec": {
      "name": "python3",
      "display_name": "Python 3"
    },
    "language_info": {
      "name": "python"
    }
  },
  "cells": [
    {
      "cell_type": "markdown",
      "metadata": {
        "id": "view-in-github",
        "colab_type": "text"
      },
      "source": [
        "<a href=\"https://colab.research.google.com/github/POYYALASIVAPRASAD/feedforward/blob/main/lstm.ipynb\" target=\"_parent\"><img src=\"https://colab.research.google.com/assets/colab-badge.svg\" alt=\"Open In Colab\"/></a>"
      ]
    },
    {
      "cell_type": "code",
      "execution_count": 23,
      "metadata": {
        "id": "YAZ5qfiNIZ-b"
      },
      "outputs": [],
      "source": [
        "import numpy as np\n",
        "from tensorflow.keras.models import Sequential\n",
        "from tensorflow.keras.layers import Dense,Embedding,LSTM"
      ]
    },
    {
      "cell_type": "code",
      "source": [
        "num_samples = 1000\n",
        "sequence_length = 10\n",
        "vocab_size = 1000"
      ],
      "metadata": {
        "id": "SyLjwxzoIrb6"
      },
      "execution_count": 24,
      "outputs": []
    },
    {
      "cell_type": "code",
      "source": [
        "X = np.random.randint(0 , vocab_size , size = (num_samples,sequence_length))\n",
        "Y = np.random.randint(0,2, size = (num_samples,))"
      ],
      "metadata": {
        "id": "yH-6Rz89I5zg"
      },
      "execution_count": 25,
      "outputs": []
    },
    {
      "cell_type": "code",
      "source": [
        "model = Sequential()"
      ],
      "metadata": {
        "id": "zRh2hjX7JWd-"
      },
      "execution_count": 26,
      "outputs": []
    },
    {
      "cell_type": "code",
      "source": [
        "model.add(Embedding(input_dim = vocab_size ,output_dim = 100,input_length = sequence_length))\n",
        "model.add(LSTM(64))\n",
        "model.add(Dense(1,activation = 'sigmoid'))"
      ],
      "metadata": {
        "id": "0V0_6--UJYlF"
      },
      "execution_count": 27,
      "outputs": []
    },
    {
      "cell_type": "code",
      "source": [
        "model.compile(loss = 'binary_crossentropy',optimizer='adam',metrics='accuracy')"
      ],
      "metadata": {
        "id": "aNBzpkmpKCEQ"
      },
      "execution_count": 28,
      "outputs": []
    },
    {
      "cell_type": "code",
      "source": [
        "model.fit(X,Y,epochs=10,batch_size=32,validation_split = 0.2)"
      ],
      "metadata": {
        "colab": {
          "base_uri": "https://localhost:8080/"
        },
        "id": "6nOGFTWNKScN",
        "outputId": "92123c58-c94d-47bd-e7b7-cc0e6f83fe39"
      },
      "execution_count": 29,
      "outputs": [
        {
          "output_type": "stream",
          "name": "stdout",
          "text": [
            "Epoch 1/10\n",
            "25/25 [==============================] - 3s 35ms/step - loss: 0.6936 - accuracy: 0.4850 - val_loss: 0.6941 - val_accuracy: 0.4750\n",
            "Epoch 2/10\n",
            "25/25 [==============================] - 0s 14ms/step - loss: 0.6650 - accuracy: 0.7588 - val_loss: 0.7039 - val_accuracy: 0.5350\n",
            "Epoch 3/10\n",
            "25/25 [==============================] - 0s 11ms/step - loss: 0.5044 - accuracy: 0.7675 - val_loss: 0.8001 - val_accuracy: 0.4750\n",
            "Epoch 4/10\n",
            "25/25 [==============================] - 0s 12ms/step - loss: 0.2740 - accuracy: 0.9000 - val_loss: 1.2087 - val_accuracy: 0.5100\n",
            "Epoch 5/10\n",
            "25/25 [==============================] - 0s 12ms/step - loss: 0.1100 - accuracy: 0.9712 - val_loss: 1.7032 - val_accuracy: 0.5200\n",
            "Epoch 6/10\n",
            "25/25 [==============================] - 0s 13ms/step - loss: 0.0291 - accuracy: 0.9937 - val_loss: 2.0630 - val_accuracy: 0.5300\n",
            "Epoch 7/10\n",
            "25/25 [==============================] - 0s 13ms/step - loss: 0.0124 - accuracy: 0.9987 - val_loss: 2.2099 - val_accuracy: 0.5550\n",
            "Epoch 8/10\n",
            "25/25 [==============================] - 0s 12ms/step - loss: 0.0047 - accuracy: 1.0000 - val_loss: 2.6163 - val_accuracy: 0.5200\n",
            "Epoch 9/10\n",
            "25/25 [==============================] - 0s 13ms/step - loss: 0.0018 - accuracy: 1.0000 - val_loss: 2.8156 - val_accuracy: 0.5050\n",
            "Epoch 10/10\n",
            "25/25 [==============================] - 0s 11ms/step - loss: 0.0011 - accuracy: 1.0000 - val_loss: 2.9238 - val_accuracy: 0.5150\n"
          ]
        },
        {
          "output_type": "execute_result",
          "data": {
            "text/plain": [
              "<keras.callbacks.History at 0x79db4f6f20b0>"
            ]
          },
          "metadata": {},
          "execution_count": 29
        }
      ]
    }
  ]
}